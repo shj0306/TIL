{
 "cells": [
  {
   "cell_type": "markdown",
   "id": "98fff1bf",
   "metadata": {},
   "source": [
    "### 회원정보 가져와 저장하기\n",
    "- 파일: 회원.xlsx"
   ]
  },
  {
   "cell_type": "code",
   "execution_count": 50,
   "id": "314f0641",
   "metadata": {
    "ExecuteTime": {
     "end_time": "2022-04-19T07:19:41.489406Z",
     "start_time": "2022-04-19T07:19:40.628987Z"
    }
   },
   "outputs": [
    {
     "data": {
      "text/html": [
       "<style>.cm-s-ipython span.cm-comment { color: yellow; }</style>"
      ],
      "text/plain": [
       "<IPython.core.display.HTML object>"
      ]
     },
     "metadata": {},
     "output_type": "display_data"
    },
    {
     "data": {
      "text/html": [
       "<div>\n",
       "<style scoped>\n",
       "    .dataframe tbody tr th:only-of-type {\n",
       "        vertical-align: middle;\n",
       "    }\n",
       "\n",
       "    .dataframe tbody tr th {\n",
       "        vertical-align: top;\n",
       "    }\n",
       "\n",
       "    .dataframe thead th {\n",
       "        text-align: right;\n",
       "    }\n",
       "</style>\n",
       "<table border=\"1\" class=\"dataframe\">\n",
       "  <thead>\n",
       "    <tr style=\"text-align: right;\">\n",
       "      <th></th>\n",
       "      <th>관리번호</th>\n",
       "      <th>결혼여부</th>\n",
       "      <th>운전면허증</th>\n",
       "      <th>취미</th>\n",
       "      <th>특기(소질)</th>\n",
       "      <th>관심분야</th>\n",
       "      <th>본적</th>\n",
       "      <th>주민등록상</th>\n",
       "      <th>비고</th>\n",
       "    </tr>\n",
       "  </thead>\n",
       "  <tbody>\n",
       "    <tr>\n",
       "      <th>0</th>\n",
       "      <td>05-001</td>\n",
       "      <td>미혼</td>\n",
       "      <td>취득</td>\n",
       "      <td>인터넷</td>\n",
       "      <td>엑셀</td>\n",
       "      <td>게임</td>\n",
       "      <td>충북</td>\n",
       "      <td>경기</td>\n",
       "      <td>회장</td>\n",
       "    </tr>\n",
       "    <tr>\n",
       "      <th>1</th>\n",
       "      <td>05-002</td>\n",
       "      <td>기혼</td>\n",
       "      <td>미취득</td>\n",
       "      <td>등산</td>\n",
       "      <td>파워포인트</td>\n",
       "      <td>여행</td>\n",
       "      <td>서울</td>\n",
       "      <td>서울</td>\n",
       "      <td>NaN</td>\n",
       "    </tr>\n",
       "    <tr>\n",
       "      <th>2</th>\n",
       "      <td>06-002</td>\n",
       "      <td>미혼</td>\n",
       "      <td>취득</td>\n",
       "      <td>운동</td>\n",
       "      <td>엑셀</td>\n",
       "      <td>서적</td>\n",
       "      <td>서울</td>\n",
       "      <td>강원</td>\n",
       "      <td>부회장</td>\n",
       "    </tr>\n",
       "    <tr>\n",
       "      <th>3</th>\n",
       "      <td>07-001</td>\n",
       "      <td>기혼</td>\n",
       "      <td>취득</td>\n",
       "      <td>낚시</td>\n",
       "      <td>파워포인트</td>\n",
       "      <td>여행</td>\n",
       "      <td>강원</td>\n",
       "      <td>경기</td>\n",
       "      <td>NaN</td>\n",
       "    </tr>\n",
       "    <tr>\n",
       "      <th>4</th>\n",
       "      <td>07-002</td>\n",
       "      <td>미혼</td>\n",
       "      <td>미취득</td>\n",
       "      <td>인터넷</td>\n",
       "      <td>파워포인트</td>\n",
       "      <td>게임</td>\n",
       "      <td>경기</td>\n",
       "      <td>강원</td>\n",
       "      <td>NaN</td>\n",
       "    </tr>\n",
       "  </tbody>\n",
       "</table>\n",
       "</div>"
      ],
      "text/plain": [
       "     관리번호 결혼여부 운전면허증   취미 특기(소질) 관심분야  본적 주민등록상   비고\n",
       "0  05-001   미혼    취득  인터넷     엑셀   게임  충북    경기   회장\n",
       "1  05-002   기혼   미취득   등산  파워포인트   여행  서울    서울  NaN\n",
       "2  06-002   미혼    취득   운동     엑셀   서적  서울    강원  부회장\n",
       "3  07-001   기혼    취득   낚시  파워포인트   여행  강원    경기  NaN\n",
       "4  07-002   미혼   미취득  인터넷  파워포인트   게임  경기    강원  NaN"
      ]
     },
     "execution_count": 50,
     "metadata": {},
     "output_type": "execute_result"
    }
   ],
   "source": [
    "import pandas as pd\n",
    "import pymysql as mysql\n",
    "import time\n",
    "import sys\n",
    "import warnings\n",
    "\n",
    "warnings.filterwarnings('ignore')\n",
    "from IPython.core.display import display, HTML\n",
    "warnings.filterwarnings('ignore')\n",
    "display(HTML(\"<style>.cm-s-ipython span.cm-comment { color: yellow; }</style>\"))\n",
    "\n",
    "df = pd.read_excel('./data/회원.xlsx', sheet_name='상세정보')\n",
    "df.head()"
   ]
  },
  {
   "cell_type": "code",
   "execution_count": 61,
   "id": "8e0deb34",
   "metadata": {
    "ExecuteTime": {
     "end_time": "2022-04-19T07:24:09.469811Z",
     "start_time": "2022-04-19T07:24:09.443856Z"
    }
   },
   "outputs": [
    {
     "name": "stdout",
     "output_type": "stream",
     "text": [
      "<class 'pandas.core.frame.DataFrame'>\n",
      "RangeIndex: 8 entries, 0 to 7\n",
      "Data columns (total 9 columns):\n",
      " #   Column  Non-Null Count  Dtype \n",
      "---  ------  --------------  ----- \n",
      " 0   관리번호    8 non-null      object\n",
      " 1   결혼여부    8 non-null      object\n",
      " 2   운전면허증   8 non-null      object\n",
      " 3   취미      8 non-null      object\n",
      " 4   특기(소질)  8 non-null      object\n",
      " 5   관심분야    8 non-null      object\n",
      " 6   본적      8 non-null      object\n",
      " 7   주민등록상   8 non-null      object\n",
      " 8   비고      8 non-null      object\n",
      "dtypes: object(9)\n",
      "memory usage: 704.0+ bytes\n"
     ]
    }
   ],
   "source": [
    "df.info()"
   ]
  },
  {
   "cell_type": "code",
   "execution_count": 57,
   "id": "fcb4c547",
   "metadata": {
    "ExecuteTime": {
     "end_time": "2022-04-19T07:23:10.851237Z",
     "start_time": "2022-04-19T07:23:10.838039Z"
    }
   },
   "outputs": [
    {
     "data": {
      "text/plain": [
       "0"
      ]
     },
     "execution_count": 57,
     "metadata": {},
     "output_type": "execute_result"
    }
   ],
   "source": [
    "df = df.fillna('')\n",
    "df.비고.isnull().sum()"
   ]
  },
  {
   "cell_type": "code",
   "execution_count": 1,
   "id": "05228045",
   "metadata": {
    "ExecuteTime": {
     "end_time": "2022-04-19T05:21:04.419680Z",
     "start_time": "2022-04-19T05:21:03.297242Z"
    },
    "hide_input": true,
    "scrolled": true
   },
   "outputs": [
    {
     "data": {
      "text/html": [
       "<style>.cm-s-ipython span.cm-comment { color: yellow; }</style>"
      ],
      "text/plain": [
       "<IPython.core.display.HTML object>"
      ]
     },
     "metadata": {},
     "output_type": "display_data"
    }
   ],
   "source": [
    "conn = mysql.connect(host='127.0.0.1', user='root', password='root', database='test', \n",
    "                     port=3306, autocommit=True)\n",
    "\n",
    "cur = conn.cursor()\n",
    "\n",
    "for i in range(len(df)):\n",
    "    \n",
    "    sqlnum = f'select num from member where num = \"{df.iloc[i, 0]}\"'\n",
    "    cur.execute(sqlnum)\n",
    "    \n",
    "    res = cur.fetchall()\n",
    "    if len(res) == 0:\n",
    "        sql = 'insert into member values(\"'  \n",
    "        sql = sql + df.iloc[i, 0] + '\",\"' \n",
    "        sql = sql + df.iloc[i, 1] + '\",\"' \n",
    "        sql = sql + df.iloc[i, 2] + '\",\"' \n",
    "        sql = sql +  df.iloc[i, 3] + '\",\"' \n",
    "        sql = sql +  df.iloc[i, 4] + '\",\"' \n",
    "        sql = sql + str(df.iloc[i, 5]) + '\",\"' \n",
    "        sql = sql + df.iloc[i, 6] + '\",\"'\n",
    "        sql = sql + df.iloc[i, 7] + '\",\"'\n",
    "        sql = sql + str(df.iloc[i, 8]) + '\")'\n",
    "        print(sql)\n",
    "        \n",
    "        cur.execute(sql)\n",
    "\n",
    "conn.commit()\n",
    "conn.close()"
   ]
  },
  {
   "cell_type": "code",
   "execution_count": 48,
   "id": "e8d1942a",
   "metadata": {
    "ExecuteTime": {
     "end_time": "2022-04-19T07:08:28.880216Z",
     "start_time": "2022-04-19T07:08:28.820165Z"
    },
    "collapsed": true
   },
   "outputs": [
    {
     "name": "stdout",
     "output_type": "stream",
     "text": [
      "insert into meminfo(num,marr, tuk, interest, born, bigo) values(\"05-001\",\"미혼\",\"엑셀\",\"게임\",\"충북\",\"회장\")\n",
      "insert into meminfo(num,marr, tuk, interest, born, bigo) values(\"05-002\",\"기혼\",\"파워포인트\",\"여행\",\"서울\",\"\")\n",
      "insert into meminfo(num,marr, tuk, interest, born, bigo) values(\"06-002\",\"미혼\",\"엑셀\",\"서적\",\"서울\",\"부회장\")\n",
      "insert into meminfo(num,marr, tuk, interest, born, bigo) values(\"07-001\",\"기혼\",\"파워포인트\",\"여행\",\"강원\",\"\")\n",
      "insert into meminfo(num,marr, tuk, interest, born, bigo) values(\"07-002\",\"미혼\",\"파워포인트\",\"게임\",\"경기\",\"\")\n",
      "insert into meminfo(num,marr, tuk, interest, born, bigo) values(\"07-004\",\"기혼\",\"한글\",\"서적\",\"서울\",\"총무\")\n",
      "insert into meminfo(num,marr, tuk, interest, born, bigo) values(\"08-001\",\"미혼\",\"한글\",\"서적\",\"경기\",\"\")\n",
      "insert into meminfo(num,marr, tuk, interest, born, bigo) values(\"08-002\",\"기혼\",\"파워포인트\",\"여행\",\"강원\",\"\")\n"
     ]
    }
   ],
   "source": [
    "conn = mysql.connect(host='127.0.0.1', user='root', password='root', database='test', \n",
    "                     port=3306, autocommit=True)\n",
    "\n",
    "cur = conn.cursor()\n",
    "for i in range(len(df)):\n",
    "\n",
    "    sql = f'insert into meminfo values(\"'  \n",
    "    sql = sql + df.iloc[i, 0] + '\",\"' \n",
    "    sql = sql + df.iloc[i, 1] + '\",\"' \n",
    "    sql = sql +  df.iloc[i, 4] + '\",\"' \n",
    "    sql = sql +  df.iloc[i, 5] + '\",\"' \n",
    "    sql = sql + df.iloc[i, 6] + '\",\"' \n",
    "    sql = sql + df.iloc[i, 8] + '\")'\n",
    "    print(sql)\n",
    "\n",
    "    cur.execute(sql)\n",
    "\n",
    "conn.commit()\n",
    "conn.close()"
   ]
  },
  {
   "cell_type": "code",
   "execution_count": 64,
   "id": "3743a0b4",
   "metadata": {
    "ExecuteTime": {
     "end_time": "2022-04-19T07:26:37.799895Z",
     "start_time": "2022-04-19T07:26:37.775643Z"
    }
   },
   "outputs": [
    {
     "name": "stdout",
     "output_type": "stream",
     "text": [
      "0.01332545280456543\n"
     ]
    }
   ],
   "source": [
    "times = time.time()\n",
    "\n",
    "conn = mysql.connect(host='127.0.0.1', user='root', password='root', database='test', \n",
    "                     port=3306, autocommit=True)\n",
    "\n",
    "cur = conn.cursor()\n",
    "\n",
    "sql_list = []\n",
    "\n",
    "for i in range(len(df)):\n",
    "    sql_list.append((df.iloc[i, 0], df.iloc[i, 1],\n",
    "                     df.iloc[i, 4],df.iloc[i, 5],\n",
    "                     df.iloc[i, 6],df.iloc[i, 8]))\n",
    "\n",
    "sql = 'insert into meminfo values(%s, %s, %s, %s, %s, %s)'\n",
    "cur.executemany(sql, sql_list)\n",
    "    \n",
    "print(time.time() - times)\n",
    "conn.commit()\n",
    "conn.close()"
   ]
  },
  {
   "cell_type": "code",
   "execution_count": null,
   "id": "f829c288",
   "metadata": {},
   "outputs": [],
   "source": [
    "# https://finance.naver.com/item/sise_day.naver?code=005930&page=1"
   ]
  },
  {
   "cell_type": "code",
   "execution_count": null,
   "id": "d996c250",
   "metadata": {},
   "outputs": [],
   "source": []
  },
  {
   "cell_type": "code",
   "execution_count": null,
   "id": "a81b7551",
   "metadata": {},
   "outputs": [],
   "source": []
  },
  {
   "cell_type": "code",
   "execution_count": null,
   "id": "51c5d3ba",
   "metadata": {},
   "outputs": [],
   "source": []
  }
 ],
 "metadata": {
  "kernelspec": {
   "display_name": "Python 3 (ipykernel)",
   "language": "python",
   "name": "python3"
  },
  "language_info": {
   "codemirror_mode": {
    "name": "ipython",
    "version": 3
   },
   "file_extension": ".py",
   "mimetype": "text/x-python",
   "name": "python",
   "nbconvert_exporter": "python",
   "pygments_lexer": "ipython3",
   "version": "3.9.7"
  },
  "toc": {
   "base_numbering": 1,
   "nav_menu": {},
   "number_sections": true,
   "sideBar": true,
   "skip_h1_title": false,
   "title_cell": "Table of Contents",
   "title_sidebar": "Contents",
   "toc_cell": false,
   "toc_position": {},
   "toc_section_display": true,
   "toc_window_display": false
  }
 },
 "nbformat": 4,
 "nbformat_minor": 5
}
