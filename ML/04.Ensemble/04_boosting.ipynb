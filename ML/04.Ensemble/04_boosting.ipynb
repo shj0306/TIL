{
  "nbformat": 4,
  "nbformat_minor": 0,
  "metadata": {
    "colab": {
      "name": "04_boosting.ipynb",
      "provenance": [],
      "collapsed_sections": []
    },
    "kernelspec": {
      "name": "python3",
      "display_name": "Python 3"
    },
    "language_info": {
      "name": "python"
    }
  },
  "cells": [
    {
      "cell_type": "markdown",
      "source": [
        "### 부스팅(Boosting)"
      ],
      "metadata": {
        "id": "98U_XWj8nbo2"
      }
    },
    {
      "cell_type": "code",
      "source": [
        "%cd /content/drive/MyDrive/multi/0426"
      ],
      "metadata": {
        "colab": {
          "base_uri": "https://localhost:8080/"
        },
        "id": "Bnm1GdzUn3It",
        "outputId": "1a2271dc-db2a-49cc-8e02-40c413689dd0"
      },
      "execution_count": 2,
      "outputs": [
        {
          "output_type": "stream",
          "name": "stdout",
          "text": [
            "/content/drive/MyDrive/multi/0426\n"
          ]
        }
      ]
    },
    {
      "cell_type": "code",
      "execution_count": 1,
      "metadata": {
        "id": "j0E5y0vOnYLF"
      },
      "outputs": [],
      "source": [
        "from sklearn.datasets import load_wine\n",
        "wine = load_wine()"
      ]
    },
    {
      "cell_type": "code",
      "source": [
        "import pandas as pd\n",
        "df = pd.DataFrame(wine.data, columns=wine.feature_names)\n",
        "df.head()"
      ],
      "metadata": {
        "colab": {
          "base_uri": "https://localhost:8080/",
          "height": 270
        },
        "id": "V90z4PZWnayI",
        "outputId": "9cd2be4c-1e0d-406c-e509-d43e478113f5"
      },
      "execution_count": 3,
      "outputs": [
        {
          "output_type": "execute_result",
          "data": {
            "text/plain": [
              "   alcohol  malic_acid   ash  alcalinity_of_ash  magnesium  total_phenols  \\\n",
              "0    14.23        1.71  2.43               15.6      127.0           2.80   \n",
              "1    13.20        1.78  2.14               11.2      100.0           2.65   \n",
              "2    13.16        2.36  2.67               18.6      101.0           2.80   \n",
              "3    14.37        1.95  2.50               16.8      113.0           3.85   \n",
              "4    13.24        2.59  2.87               21.0      118.0           2.80   \n",
              "\n",
              "   flavanoids  nonflavanoid_phenols  proanthocyanins  color_intensity   hue  \\\n",
              "0        3.06                  0.28             2.29             5.64  1.04   \n",
              "1        2.76                  0.26             1.28             4.38  1.05   \n",
              "2        3.24                  0.30             2.81             5.68  1.03   \n",
              "3        3.49                  0.24             2.18             7.80  0.86   \n",
              "4        2.69                  0.39             1.82             4.32  1.04   \n",
              "\n",
              "   od280/od315_of_diluted_wines  proline  \n",
              "0                          3.92   1065.0  \n",
              "1                          3.40   1050.0  \n",
              "2                          3.17   1185.0  \n",
              "3                          3.45   1480.0  \n",
              "4                          2.93    735.0  "
            ],
            "text/html": [
              "\n",
              "  <div id=\"df-8580b459-4c77-4a13-ab96-7981accf6aa0\">\n",
              "    <div class=\"colab-df-container\">\n",
              "      <div>\n",
              "<style scoped>\n",
              "    .dataframe tbody tr th:only-of-type {\n",
              "        vertical-align: middle;\n",
              "    }\n",
              "\n",
              "    .dataframe tbody tr th {\n",
              "        vertical-align: top;\n",
              "    }\n",
              "\n",
              "    .dataframe thead th {\n",
              "        text-align: right;\n",
              "    }\n",
              "</style>\n",
              "<table border=\"1\" class=\"dataframe\">\n",
              "  <thead>\n",
              "    <tr style=\"text-align: right;\">\n",
              "      <th></th>\n",
              "      <th>alcohol</th>\n",
              "      <th>malic_acid</th>\n",
              "      <th>ash</th>\n",
              "      <th>alcalinity_of_ash</th>\n",
              "      <th>magnesium</th>\n",
              "      <th>total_phenols</th>\n",
              "      <th>flavanoids</th>\n",
              "      <th>nonflavanoid_phenols</th>\n",
              "      <th>proanthocyanins</th>\n",
              "      <th>color_intensity</th>\n",
              "      <th>hue</th>\n",
              "      <th>od280/od315_of_diluted_wines</th>\n",
              "      <th>proline</th>\n",
              "    </tr>\n",
              "  </thead>\n",
              "  <tbody>\n",
              "    <tr>\n",
              "      <th>0</th>\n",
              "      <td>14.23</td>\n",
              "      <td>1.71</td>\n",
              "      <td>2.43</td>\n",
              "      <td>15.6</td>\n",
              "      <td>127.0</td>\n",
              "      <td>2.80</td>\n",
              "      <td>3.06</td>\n",
              "      <td>0.28</td>\n",
              "      <td>2.29</td>\n",
              "      <td>5.64</td>\n",
              "      <td>1.04</td>\n",
              "      <td>3.92</td>\n",
              "      <td>1065.0</td>\n",
              "    </tr>\n",
              "    <tr>\n",
              "      <th>1</th>\n",
              "      <td>13.20</td>\n",
              "      <td>1.78</td>\n",
              "      <td>2.14</td>\n",
              "      <td>11.2</td>\n",
              "      <td>100.0</td>\n",
              "      <td>2.65</td>\n",
              "      <td>2.76</td>\n",
              "      <td>0.26</td>\n",
              "      <td>1.28</td>\n",
              "      <td>4.38</td>\n",
              "      <td>1.05</td>\n",
              "      <td>3.40</td>\n",
              "      <td>1050.0</td>\n",
              "    </tr>\n",
              "    <tr>\n",
              "      <th>2</th>\n",
              "      <td>13.16</td>\n",
              "      <td>2.36</td>\n",
              "      <td>2.67</td>\n",
              "      <td>18.6</td>\n",
              "      <td>101.0</td>\n",
              "      <td>2.80</td>\n",
              "      <td>3.24</td>\n",
              "      <td>0.30</td>\n",
              "      <td>2.81</td>\n",
              "      <td>5.68</td>\n",
              "      <td>1.03</td>\n",
              "      <td>3.17</td>\n",
              "      <td>1185.0</td>\n",
              "    </tr>\n",
              "    <tr>\n",
              "      <th>3</th>\n",
              "      <td>14.37</td>\n",
              "      <td>1.95</td>\n",
              "      <td>2.50</td>\n",
              "      <td>16.8</td>\n",
              "      <td>113.0</td>\n",
              "      <td>3.85</td>\n",
              "      <td>3.49</td>\n",
              "      <td>0.24</td>\n",
              "      <td>2.18</td>\n",
              "      <td>7.80</td>\n",
              "      <td>0.86</td>\n",
              "      <td>3.45</td>\n",
              "      <td>1480.0</td>\n",
              "    </tr>\n",
              "    <tr>\n",
              "      <th>4</th>\n",
              "      <td>13.24</td>\n",
              "      <td>2.59</td>\n",
              "      <td>2.87</td>\n",
              "      <td>21.0</td>\n",
              "      <td>118.0</td>\n",
              "      <td>2.80</td>\n",
              "      <td>2.69</td>\n",
              "      <td>0.39</td>\n",
              "      <td>1.82</td>\n",
              "      <td>4.32</td>\n",
              "      <td>1.04</td>\n",
              "      <td>2.93</td>\n",
              "      <td>735.0</td>\n",
              "    </tr>\n",
              "  </tbody>\n",
              "</table>\n",
              "</div>\n",
              "      <button class=\"colab-df-convert\" onclick=\"convertToInteractive('df-8580b459-4c77-4a13-ab96-7981accf6aa0')\"\n",
              "              title=\"Convert this dataframe to an interactive table.\"\n",
              "              style=\"display:none;\">\n",
              "        \n",
              "  <svg xmlns=\"http://www.w3.org/2000/svg\" height=\"24px\"viewBox=\"0 0 24 24\"\n",
              "       width=\"24px\">\n",
              "    <path d=\"M0 0h24v24H0V0z\" fill=\"none\"/>\n",
              "    <path d=\"M18.56 5.44l.94 2.06.94-2.06 2.06-.94-2.06-.94-.94-2.06-.94 2.06-2.06.94zm-11 1L8.5 8.5l.94-2.06 2.06-.94-2.06-.94L8.5 2.5l-.94 2.06-2.06.94zm10 10l.94 2.06.94-2.06 2.06-.94-2.06-.94-.94-2.06-.94 2.06-2.06.94z\"/><path d=\"M17.41 7.96l-1.37-1.37c-.4-.4-.92-.59-1.43-.59-.52 0-1.04.2-1.43.59L10.3 9.45l-7.72 7.72c-.78.78-.78 2.05 0 2.83L4 21.41c.39.39.9.59 1.41.59.51 0 1.02-.2 1.41-.59l7.78-7.78 2.81-2.81c.8-.78.8-2.07 0-2.86zM5.41 20L4 18.59l7.72-7.72 1.47 1.35L5.41 20z\"/>\n",
              "  </svg>\n",
              "      </button>\n",
              "      \n",
              "  <style>\n",
              "    .colab-df-container {\n",
              "      display:flex;\n",
              "      flex-wrap:wrap;\n",
              "      gap: 12px;\n",
              "    }\n",
              "\n",
              "    .colab-df-convert {\n",
              "      background-color: #E8F0FE;\n",
              "      border: none;\n",
              "      border-radius: 50%;\n",
              "      cursor: pointer;\n",
              "      display: none;\n",
              "      fill: #1967D2;\n",
              "      height: 32px;\n",
              "      padding: 0 0 0 0;\n",
              "      width: 32px;\n",
              "    }\n",
              "\n",
              "    .colab-df-convert:hover {\n",
              "      background-color: #E2EBFA;\n",
              "      box-shadow: 0px 1px 2px rgba(60, 64, 67, 0.3), 0px 1px 3px 1px rgba(60, 64, 67, 0.15);\n",
              "      fill: #174EA6;\n",
              "    }\n",
              "\n",
              "    [theme=dark] .colab-df-convert {\n",
              "      background-color: #3B4455;\n",
              "      fill: #D2E3FC;\n",
              "    }\n",
              "\n",
              "    [theme=dark] .colab-df-convert:hover {\n",
              "      background-color: #434B5C;\n",
              "      box-shadow: 0px 1px 3px 1px rgba(0, 0, 0, 0.15);\n",
              "      filter: drop-shadow(0px 1px 2px rgba(0, 0, 0, 0.3));\n",
              "      fill: #FFFFFF;\n",
              "    }\n",
              "  </style>\n",
              "\n",
              "      <script>\n",
              "        const buttonEl =\n",
              "          document.querySelector('#df-8580b459-4c77-4a13-ab96-7981accf6aa0 button.colab-df-convert');\n",
              "        buttonEl.style.display =\n",
              "          google.colab.kernel.accessAllowed ? 'block' : 'none';\n",
              "\n",
              "        async function convertToInteractive(key) {\n",
              "          const element = document.querySelector('#df-8580b459-4c77-4a13-ab96-7981accf6aa0');\n",
              "          const dataTable =\n",
              "            await google.colab.kernel.invokeFunction('convertToInteractive',\n",
              "                                                     [key], {});\n",
              "          if (!dataTable) return;\n",
              "\n",
              "          const docLinkHtml = 'Like what you see? Visit the ' +\n",
              "            '<a target=\"_blank\" href=https://colab.research.google.com/notebooks/data_table.ipynb>data table notebook</a>'\n",
              "            + ' to learn more about interactive tables.';\n",
              "          element.innerHTML = '';\n",
              "          dataTable['output_type'] = 'display_data';\n",
              "          await google.colab.output.renderOutput(dataTable, element);\n",
              "          const docLink = document.createElement('div');\n",
              "          docLink.innerHTML = docLinkHtml;\n",
              "          element.appendChild(docLink);\n",
              "        }\n",
              "      </script>\n",
              "    </div>\n",
              "  </div>\n",
              "  "
            ]
          },
          "metadata": {},
          "execution_count": 3
        }
      ]
    },
    {
      "cell_type": "code",
      "source": [
        "import numpy as np\n",
        "np.unique(wine.target, return_counts=True)"
      ],
      "metadata": {
        "colab": {
          "base_uri": "https://localhost:8080/"
        },
        "id": "U-e_zUZVnavp",
        "outputId": "d86f784d-bd44-4b0c-c1d5-1afe83f1099b"
      },
      "execution_count": 4,
      "outputs": [
        {
          "output_type": "execute_result",
          "data": {
            "text/plain": [
              "(array([0, 1, 2]), array([59, 71, 48]))"
            ]
          },
          "metadata": {},
          "execution_count": 4
        }
      ]
    },
    {
      "cell_type": "code",
      "source": [
        "from sklearn.model_selection import train_test_split\n",
        "X_train, X_test, y_train, y_test = train_test_split(\n",
        "    wine.data, wine.target, stratify=wine.target, test_size=0.2, random_state=2022\n",
        ")"
      ],
      "metadata": {
        "id": "4-lPAlTEnas8"
      },
      "execution_count": 5,
      "outputs": []
    },
    {
      "cell_type": "markdown",
      "source": [
        "### 1. XGBoost(eXtra Gradient Boost)\n",
        "    conda activate base\n",
        "    conda install -c anaconda py-xgboost"
      ],
      "metadata": {
        "id": "rIGx1ncXpH3h"
      }
    },
    {
      "cell_type": "code",
      "source": [
        "from xgboost import XGBClassifier\n",
        "\n",
        "xgb = XGBClassifier(random_state=2022)\n",
        "xgb.get_params()"
      ],
      "metadata": {
        "colab": {
          "base_uri": "https://localhost:8080/"
        },
        "id": "THysttWhnap2",
        "outputId": "a5e767fe-97d6-45e8-ede0-d095bbdb9e3d"
      },
      "execution_count": 6,
      "outputs": [
        {
          "output_type": "execute_result",
          "data": {
            "text/plain": [
              "{'base_score': 0.5,\n",
              " 'booster': 'gbtree',\n",
              " 'colsample_bylevel': 1,\n",
              " 'colsample_bynode': 1,\n",
              " 'colsample_bytree': 1,\n",
              " 'gamma': 0,\n",
              " 'learning_rate': 0.1,\n",
              " 'max_delta_step': 0,\n",
              " 'max_depth': 3,\n",
              " 'min_child_weight': 1,\n",
              " 'missing': None,\n",
              " 'n_estimators': 100,\n",
              " 'n_jobs': 1,\n",
              " 'nthread': None,\n",
              " 'objective': 'binary:logistic',\n",
              " 'random_state': 2022,\n",
              " 'reg_alpha': 0,\n",
              " 'reg_lambda': 1,\n",
              " 'scale_pos_weight': 1,\n",
              " 'seed': None,\n",
              " 'silent': None,\n",
              " 'subsample': 1,\n",
              " 'verbosity': 1}"
            ]
          },
          "metadata": {},
          "execution_count": 6
        }
      ]
    },
    {
      "cell_type": "code",
      "source": [
        "xgb.fit(X_train, y_train)\n",
        "pred_xgb = xgb.predict(X_test)"
      ],
      "metadata": {
        "id": "OPszyX6pnamz"
      },
      "execution_count": 8,
      "outputs": []
    },
    {
      "cell_type": "code",
      "source": [
        "from sklearn.metrics import accuracy_score\n",
        "\n",
        "accuracy_score(y_test, pred_xgb)"
      ],
      "metadata": {
        "colab": {
          "base_uri": "https://localhost:8080/"
        },
        "id": "vnYx62xfqZAa",
        "outputId": "05e93ee6-b3f8-41eb-8afa-df6f16e02f02"
      },
      "execution_count": 9,
      "outputs": [
        {
          "output_type": "execute_result",
          "data": {
            "text/plain": [
              "0.9722222222222222"
            ]
          },
          "metadata": {},
          "execution_count": 9
        }
      ]
    },
    {
      "cell_type": "markdown",
      "source": [
        "### 시각화"
      ],
      "metadata": {
        "id": "ZWiKbAeFq4Cb"
      }
    },
    {
      "cell_type": "code",
      "source": [
        "from xgboost import plot_importance\n",
        "import matplotlib.pyplot as plt"
      ],
      "metadata": {
        "id": "4esTIYgsqY7I"
      },
      "execution_count": 10,
      "outputs": []
    },
    {
      "cell_type": "code",
      "source": [
        "plot_importance(xgb)\n",
        "plt.show()"
      ],
      "metadata": {
        "colab": {
          "base_uri": "https://localhost:8080/",
          "height": 295
        },
        "id": "yE7E0ZzVqY2T",
        "outputId": "b1d9cc52-b3d4-4c31-945b-48f5dfdb72f4"
      },
      "execution_count": 11,
      "outputs": [
        {
          "output_type": "display_data",
          "data": {
            "text/plain": [
              "<Figure size 432x288 with 1 Axes>"
            ],
            "image/png": "[encoded data removed]"
          },
          "metadata": {
            "needs_background": "light"
          }
        }
      ]
    },
    {
      "cell_type": "markdown",
      "source": [
        "- GridSearchCV"
      ],
      "metadata": {
        "id": "aNNZW2HBrhDl"
      }
    },
    {
      "cell_type": "code",
      "source": [
        "from sklearn.model_selection import GridSearchCV"
      ],
      "metadata": {
        "id": "y0mPvoPPrnW5"
      },
      "execution_count": 12,
      "outputs": []
    },
    {
      "cell_type": "code",
      "source": [
        "params = {\n",
        "    'max_depth' : [2,3,4,5]\n",
        "}"
      ],
      "metadata": {
        "id": "VQP2DY43rBZJ"
      },
      "execution_count": 20,
      "outputs": []
    },
    {
      "cell_type": "code",
      "source": [
        "grid_xgb = GridSearchCV(xgb, params, scoring='accuracy', cv=5)\n",
        "grid_xgb.fit(X_train, y_train)\n",
        "grid_xgb.best_params_"
      ],
      "metadata": {
        "colab": {
          "base_uri": "https://localhost:8080/"
        },
        "id": "gIZsE6_jrBWt",
        "outputId": "397758e8-edbd-4860-e94f-9562a50ea00e"
      },
      "execution_count": 21,
      "outputs": [
        {
          "output_type": "execute_result",
          "data": {
            "text/plain": [
              "{'max_depth': 2}"
            ]
          },
          "metadata": {},
          "execution_count": 21
        }
      ]
    },
    {
      "cell_type": "code",
      "source": [
        "best_xgb = grid_xgb.best_estimator_\n",
        "best_xgb.score(X_test, y_test)"
      ],
      "metadata": {
        "colab": {
          "base_uri": "https://localhost:8080/"
        },
        "id": "C0FRFkXvrx7Z",
        "outputId": "7b53a5e9-e684-426a-8dcc-ce536f8a96b7"
      },
      "execution_count": 22,
      "outputs": [
        {
          "output_type": "execute_result",
          "data": {
            "text/plain": [
              "0.9722222222222222"
            ]
          },
          "metadata": {},
          "execution_count": 22
        }
      ]
    },
    {
      "cell_type": "markdown",
      "source": [
        "### Light GBM(Gradient Boosting Machine)"
      ],
      "metadata": {
        "id": "IlYuH0f6s_JG"
      }
    },
    {
      "cell_type": "code",
      "source": [
        "from lightgbm import LGBMClassifier\n",
        "\n",
        "lgb = LGBMClassifier()\n",
        "lgb.get_params()"
      ],
      "metadata": {
        "colab": {
          "base_uri": "https://localhost:8080/"
        },
        "id": "DiJkC-bCrx3A",
        "outputId": "ff6940d7-0029-4870-aa89-f057cf7d640f"
      },
      "execution_count": 34,
      "outputs": [
        {
          "output_type": "execute_result",
          "data": {
            "text/plain": [
              "{'boosting_type': 'gbdt',\n",
              " 'class_weight': None,\n",
              " 'colsample_bytree': 1.0,\n",
              " 'importance_type': 'split',\n",
              " 'learning_rate': 0.1,\n",
              " 'max_depth': -1,\n",
              " 'min_child_samples': 20,\n",
              " 'min_child_weight': 0.001,\n",
              " 'min_split_gain': 0.0,\n",
              " 'n_estimators': 100,\n",
              " 'n_jobs': -1,\n",
              " 'num_leaves': 31,\n",
              " 'objective': None,\n",
              " 'random_state': None,\n",
              " 'reg_alpha': 0.0,\n",
              " 'reg_lambda': 0.0,\n",
              " 'silent': True,\n",
              " 'subsample': 1.0,\n",
              " 'subsample_for_bin': 200000,\n",
              " 'subsample_freq': 0}"
            ]
          },
          "metadata": {},
          "execution_count": 34
        }
      ]
    },
    {
      "cell_type": "code",
      "source": [
        "evals = [(X_test, y_test)]\n",
        "lgb.fit(X_train, y_train, eval_set=evals, eval_metric='logloss', verbose=True)"
      ],
      "metadata": {
        "colab": {
          "base_uri": "https://localhost:8080/"
        },
        "id": "p63rXINCsfN2",
        "outputId": "f809da5c-9495-4f00-d5eb-fac8d9a9d948"
      },
      "execution_count": 35,
      "outputs": [
        {
          "output_type": "stream",
          "name": "stdout",
          "text": [
            "[1]\tvalid_0's multi_logloss: 0.990435\tvalid_0's multi_logloss: 0.990435\n",
            "[2]\tvalid_0's multi_logloss: 0.908143\tvalid_0's multi_logloss: 0.908143\n",
            "[3]\tvalid_0's multi_logloss: 0.837356\tvalid_0's multi_logloss: 0.837356\n",
            "[4]\tvalid_0's multi_logloss: 0.764444\tvalid_0's multi_logloss: 0.764444\n",
            "[5]\tvalid_0's multi_logloss: 0.704935\tvalid_0's multi_logloss: 0.704935\n",
            "[6]\tvalid_0's multi_logloss: 0.64864\tvalid_0's multi_logloss: 0.64864\n",
            "[7]\tvalid_0's multi_logloss: 0.600436\tvalid_0's multi_logloss: 0.600436\n",
            "[8]\tvalid_0's multi_logloss: 0.552786\tvalid_0's multi_logloss: 0.552786\n",
            "[9]\tvalid_0's multi_logloss: 0.517989\tvalid_0's multi_logloss: 0.517989\n",
            "[10]\tvalid_0's multi_logloss: 0.480141\tvalid_0's multi_logloss: 0.480141\n",
            "[11]\tvalid_0's multi_logloss: 0.451184\tvalid_0's multi_logloss: 0.451184\n",
            "[12]\tvalid_0's multi_logloss: 0.418687\tvalid_0's multi_logloss: 0.418687\n",
            "[13]\tvalid_0's multi_logloss: 0.391787\tvalid_0's multi_logloss: 0.391787\n",
            "[14]\tvalid_0's multi_logloss: 0.367788\tvalid_0's multi_logloss: 0.367788\n",
            "[15]\tvalid_0's multi_logloss: 0.344975\tvalid_0's multi_logloss: 0.344975\n",
            "[16]\tvalid_0's multi_logloss: 0.323976\tvalid_0's multi_logloss: 0.323976\n",
            "[17]\tvalid_0's multi_logloss: 0.304602\tvalid_0's multi_logloss: 0.304602\n",
            "[18]\tvalid_0's multi_logloss: 0.288605\tvalid_0's multi_logloss: 0.288605\n",
            "[19]\tvalid_0's multi_logloss: 0.273361\tvalid_0's multi_logloss: 0.273361\n",
            "[20]\tvalid_0's multi_logloss: 0.261604\tvalid_0's multi_logloss: 0.261604\n",
            "[21]\tvalid_0's multi_logloss: 0.247411\tvalid_0's multi_logloss: 0.247411\n",
            "[22]\tvalid_0's multi_logloss: 0.232891\tvalid_0's multi_logloss: 0.232891\n",
            "[23]\tvalid_0's multi_logloss: 0.222288\tvalid_0's multi_logloss: 0.222288\n",
            "[24]\tvalid_0's multi_logloss: 0.211125\tvalid_0's multi_logloss: 0.211125\n",
            "[25]\tvalid_0's multi_logloss: 0.199922\tvalid_0's multi_logloss: 0.199922\n",
            "[26]\tvalid_0's multi_logloss: 0.190003\tvalid_0's multi_logloss: 0.190003\n",
            "[27]\tvalid_0's multi_logloss: 0.182935\tvalid_0's multi_logloss: 0.182935\n",
            "[28]\tvalid_0's multi_logloss: 0.174509\tvalid_0's multi_logloss: 0.174509\n",
            "[29]\tvalid_0's multi_logloss: 0.16825\tvalid_0's multi_logloss: 0.16825\n",
            "[30]\tvalid_0's multi_logloss: 0.160865\tvalid_0's multi_logloss: 0.160865\n",
            "[31]\tvalid_0's multi_logloss: 0.155991\tvalid_0's multi_logloss: 0.155991\n",
            "[32]\tvalid_0's multi_logloss: 0.151392\tvalid_0's multi_logloss: 0.151392\n",
            "[33]\tvalid_0's multi_logloss: 0.149302\tvalid_0's multi_logloss: 0.149302\n",
            "[34]\tvalid_0's multi_logloss: 0.145148\tvalid_0's multi_logloss: 0.145148\n",
            "[35]\tvalid_0's multi_logloss: 0.140475\tvalid_0's multi_logloss: 0.140475\n",
            "[36]\tvalid_0's multi_logloss: 0.137944\tvalid_0's multi_logloss: 0.137944\n",
            "[37]\tvalid_0's multi_logloss: 0.135312\tvalid_0's multi_logloss: 0.135312\n",
            "[38]\tvalid_0's multi_logloss: 0.131911\tvalid_0's multi_logloss: 0.131911\n",
            "[39]\tvalid_0's multi_logloss: 0.127934\tvalid_0's multi_logloss: 0.127934\n",
            "[40]\tvalid_0's multi_logloss: 0.12753\tvalid_0's multi_logloss: 0.12753\n",
            "[41]\tvalid_0's multi_logloss: 0.12653\tvalid_0's multi_logloss: 0.12653\n",
            "[42]\tvalid_0's multi_logloss: 0.124075\tvalid_0's multi_logloss: 0.124075\n",
            "[43]\tvalid_0's multi_logloss: 0.121484\tvalid_0's multi_logloss: 0.121484\n",
            "[44]\tvalid_0's multi_logloss: 0.118433\tvalid_0's multi_logloss: 0.118433\n",
            "[45]\tvalid_0's multi_logloss: 0.11709\tvalid_0's multi_logloss: 0.11709\n",
            "[46]\tvalid_0's multi_logloss: 0.115164\tvalid_0's multi_logloss: 0.115164\n",
            "[47]\tvalid_0's multi_logloss: 0.112558\tvalid_0's multi_logloss: 0.112558\n",
            "[48]\tvalid_0's multi_logloss: 0.110827\tvalid_0's multi_logloss: 0.110827\n",
            "[49]\tvalid_0's multi_logloss: 0.107682\tvalid_0's multi_logloss: 0.107682\n",
            "[50]\tvalid_0's multi_logloss: 0.107738\tvalid_0's multi_logloss: 0.107738\n",
            "[51]\tvalid_0's multi_logloss: 0.103924\tvalid_0's multi_logloss: 0.103924\n",
            "[52]\tvalid_0's multi_logloss: 0.104749\tvalid_0's multi_logloss: 0.104749\n",
            "[53]\tvalid_0's multi_logloss: 0.105059\tvalid_0's multi_logloss: 0.105059\n",
            "[54]\tvalid_0's multi_logloss: 0.102455\tvalid_0's multi_logloss: 0.102455\n",
            "[55]\tvalid_0's multi_logloss: 0.101245\tvalid_0's multi_logloss: 0.101245\n",
            "[56]\tvalid_0's multi_logloss: 0.0992367\tvalid_0's multi_logloss: 0.0992367\n",
            "[57]\tvalid_0's multi_logloss: 0.0993853\tvalid_0's multi_logloss: 0.0993853\n",
            "[58]\tvalid_0's multi_logloss: 0.0983796\tvalid_0's multi_logloss: 0.0983796\n",
            "[59]\tvalid_0's multi_logloss: 0.0967659\tvalid_0's multi_logloss: 0.0967659\n",
            "[60]\tvalid_0's multi_logloss: 0.096624\tvalid_0's multi_logloss: 0.096624\n",
            "[61]\tvalid_0's multi_logloss: 0.0962401\tvalid_0's multi_logloss: 0.0962401\n",
            "[62]\tvalid_0's multi_logloss: 0.0960292\tvalid_0's multi_logloss: 0.0960292\n",
            "[63]\tvalid_0's multi_logloss: 0.0941866\tvalid_0's multi_logloss: 0.0941866\n",
            "[64]\tvalid_0's multi_logloss: 0.0935058\tvalid_0's multi_logloss: 0.0935058\n",
            "[65]\tvalid_0's multi_logloss: 0.0942193\tvalid_0's multi_logloss: 0.0942193\n",
            "[66]\tvalid_0's multi_logloss: 0.09405\tvalid_0's multi_logloss: 0.09405\n",
            "[67]\tvalid_0's multi_logloss: 0.0934319\tvalid_0's multi_logloss: 0.0934319\n",
            "[68]\tvalid_0's multi_logloss: 0.0905521\tvalid_0's multi_logloss: 0.0905521\n",
            "[69]\tvalid_0's multi_logloss: 0.0925765\tvalid_0's multi_logloss: 0.0925765\n",
            "[70]\tvalid_0's multi_logloss: 0.0897127\tvalid_0's multi_logloss: 0.0897127\n",
            "[71]\tvalid_0's multi_logloss: 0.0871949\tvalid_0's multi_logloss: 0.0871949\n",
            "[72]\tvalid_0's multi_logloss: 0.0880991\tvalid_0's multi_logloss: 0.0880991\n",
            "[73]\tvalid_0's multi_logloss: 0.0891227\tvalid_0's multi_logloss: 0.0891227\n",
            "[74]\tvalid_0's multi_logloss: 0.088095\tvalid_0's multi_logloss: 0.088095\n",
            "[75]\tvalid_0's multi_logloss: 0.0846751\tvalid_0's multi_logloss: 0.0846751\n",
            "[76]\tvalid_0's multi_logloss: 0.0829421\tvalid_0's multi_logloss: 0.0829421\n",
            "[77]\tvalid_0's multi_logloss: 0.0825328\tvalid_0's multi_logloss: 0.0825328\n",
            "[78]\tvalid_0's multi_logloss: 0.081471\tvalid_0's multi_logloss: 0.081471\n",
            "[79]\tvalid_0's multi_logloss: 0.0811748\tvalid_0's multi_logloss: 0.0811748\n",
            "[80]\tvalid_0's multi_logloss: 0.0788381\tvalid_0's multi_logloss: 0.0788381\n",
            "[81]\tvalid_0's multi_logloss: 0.0764152\tvalid_0's multi_logloss: 0.0764152\n",
            "[82]\tvalid_0's multi_logloss: 0.0785035\tvalid_0's multi_logloss: 0.0785035\n",
            "[83]\tvalid_0's multi_logloss: 0.0787168\tvalid_0's multi_logloss: 0.0787168\n",
            "[84]\tvalid_0's multi_logloss: 0.0794331\tvalid_0's multi_logloss: 0.0794331\n",
            "[85]\tvalid_0's multi_logloss: 0.0806332\tvalid_0's multi_logloss: 0.0806332\n",
            "[86]\tvalid_0's multi_logloss: 0.0765942\tvalid_0's multi_logloss: 0.0765942\n",
            "[87]\tvalid_0's multi_logloss: 0.0763483\tvalid_0's multi_logloss: 0.0763483\n",
            "[88]\tvalid_0's multi_logloss: 0.0754051\tvalid_0's multi_logloss: 0.0754051\n",
            "[89]\tvalid_0's multi_logloss: 0.0776707\tvalid_0's multi_logloss: 0.0776707\n",
            "[90]\tvalid_0's multi_logloss: 0.0775176\tvalid_0's multi_logloss: 0.0775176\n",
            "[91]\tvalid_0's multi_logloss: 0.0799853\tvalid_0's multi_logloss: 0.0799853\n",
            "[92]\tvalid_0's multi_logloss: 0.0807992\tvalid_0's multi_logloss: 0.0807992\n",
            "[93]\tvalid_0's multi_logloss: 0.0806097\tvalid_0's multi_logloss: 0.0806097\n",
            "[94]\tvalid_0's multi_logloss: 0.0819951\tvalid_0's multi_logloss: 0.0819951\n",
            "[95]\tvalid_0's multi_logloss: 0.0815364\tvalid_0's multi_logloss: 0.0815364\n",
            "[96]\tvalid_0's multi_logloss: 0.0841948\tvalid_0's multi_logloss: 0.0841948\n",
            "[97]\tvalid_0's multi_logloss: 0.0800794\tvalid_0's multi_logloss: 0.0800794\n",
            "[98]\tvalid_0's multi_logloss: 0.0799009\tvalid_0's multi_logloss: 0.0799009\n",
            "[99]\tvalid_0's multi_logloss: 0.0802821\tvalid_0's multi_logloss: 0.0802821\n",
            "[100]\tvalid_0's multi_logloss: 0.0801132\tvalid_0's multi_logloss: 0.0801132\n"
          ]
        },
        {
          "output_type": "execute_result",
          "data": {
            "text/plain": [
              "LGBMClassifier()"
            ]
          },
          "metadata": {},
          "execution_count": 35
        }
      ]
    },
    {
      "cell_type": "code",
      "source": [
        "pred_lgb = lgb.predict(X_test)\n",
        "accuracy_score(y_test, pred_lgb)"
      ],
      "metadata": {
        "colab": {
          "base_uri": "https://localhost:8080/"
        },
        "id": "7u8ZicgPsfLe",
        "outputId": "82d96bef-e42f-4b60-93f1-fcb24771cb8b"
      },
      "execution_count": 36,
      "outputs": [
        {
          "output_type": "execute_result",
          "data": {
            "text/plain": [
              "0.9444444444444444"
            ]
          },
          "metadata": {},
          "execution_count": 36
        }
      ]
    },
    {
      "cell_type": "code",
      "source": [
        "from lightgbm import plot_metric, plot_importance, plot_tree"
      ],
      "metadata": {
        "id": "BGSXw9DasfGV"
      },
      "execution_count": 47,
      "outputs": []
    },
    {
      "cell_type": "code",
      "source": [
        "fig, ax = plt.subplots(1,2, figsize=(16,6))\n",
        "plot_importance(lgb,ax=ax[0])\n",
        "plot_metric(lgb,ax=ax[1])\n",
        "plt.show()"
      ],
      "metadata": {
        "colab": {
          "base_uri": "https://localhost:8080/",
          "height": 332
        },
        "id": "haL9npHCviSE",
        "outputId": "07c8ff1f-5da0-44bf-887d-284e0f5d42e0"
      },
      "execution_count": 46,
      "outputs": [
        {
          "output_type": "display_data",
          "data": {
            "text/plain": [
              "<Figure size 1152x432 with 2 Axes>"
            ],
            "image/png": "[encoded data removed]"
          },
          "metadata": {
            "needs_background": "light"
          }
        }
      ]
    },
    {
      "cell_type": "code",
      "source": [
        "plot_tree(lgb, figsize=(16,12));"
      ],
      "metadata": {
        "colab": {
          "base_uri": "https://localhost:8080/",
          "height": 200
        },
        "id": "p3eMwDnBvjdR",
        "outputId": "ec2362c5-40d3-4224-a33e-9600c84e713f"
      },
      "execution_count": 49,
      "outputs": [
        {
          "output_type": "display_data",
          "data": {
            "text/plain": [
              "<Figure size 1152x864 with 1 Axes>"
            ],
            "image/png": "[encoded data removed]"
          },
          "metadata": {
            "needs_background": "light"
          }
        }
      ]
    }
  ]
}