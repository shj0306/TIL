{
  "nbformat": 4,
  "nbformat_minor": 0,
  "metadata": {
    "colab": {
      "name": "03_Ensemble.ipynb",
      "provenance": [],
      "collapsed_sections": []
    },
    "kernelspec": {
      "name": "python3",
      "display_name": "Python 3"
    },
    "language_info": {
      "name": "python"
    }
  },
  "cells": [
    {
      "cell_type": "code",
      "source": [
        "from google.colab import drive\n",
        "drive.mount('/content/drive')"
      ],
      "metadata": {
        "colab": {
          "base_uri": "https://localhost:8080/"
        },
        "id": "6DM4AYd2NQau",
        "outputId": "5d2632bf-47ca-46c8-db4b-019fc955b168"
      },
      "execution_count": 1,
      "outputs": [
        {
          "output_type": "stream",
          "name": "stdout",
          "text": [
            "Mounted at /content/drive\n"
          ]
        }
      ]
    },
    {
      "cell_type": "code",
      "source": [
        "%cd /content/drive/MyDrive/multi/0426"
      ],
      "metadata": {
        "colab": {
          "base_uri": "https://localhost:8080/"
        },
        "id": "5S00jp0SNWA2",
        "outputId": "c47a4e27-481b-4d62-ff6f-fe366326aef6"
      },
      "execution_count": 2,
      "outputs": [
        {
          "output_type": "stream",
          "name": "stdout",
          "text": [
            "/content/drive/MyDrive/multi/0426\n"
          ]
        }
      ]
    },
    {
      "cell_type": "code",
      "source": [
        "from IPython.core.display import display, HTML\n",
        "display(HTML(\"<style> .container{width:90% !important;}</style>\"))"
      ],
      "metadata": {
        "colab": {
          "base_uri": "https://localhost:8080/",
          "height": 17
        },
        "id": "Q0ln4HXcmvgs",
        "outputId": "39d5fde3-6e8c-4310-c610-536a82d190b9"
      },
      "execution_count": 54,
      "outputs": [
        {
          "output_type": "display_data",
          "data": {
            "text/plain": [
              "<IPython.core.display.HTML object>"
            ],
            "text/html": [
              "<style> .container{width:90% !important;}</style>"
            ]
          },
          "metadata": {}
        }
      ]
    },
    {
      "cell_type": "markdown",
      "source": [
        "## Ensemble 학습"
      ],
      "metadata": {
        "id": "9GlwNI65Pes-"
      }
    },
    {
      "cell_type": "code",
      "source": [
        "from sklearn.datasets import load_breast_cancer\n",
        "cancer = load_breast_cancer()"
      ],
      "metadata": {
        "id": "IT23E6wOPeX2"
      },
      "execution_count": 3,
      "outputs": []
    },
    {
      "cell_type": "code",
      "source": [
        "from sklearn.preprocessing import MinMaxScaler\n",
        "\n",
        "cancer_scaled = MinMaxScaler().fit_transform(cancer.data)"
      ],
      "metadata": {
        "id": "c5YCGAGHPeN-"
      },
      "execution_count": 4,
      "outputs": []
    },
    {
      "cell_type": "code",
      "source": [
        "from sklearn.model_selection import train_test_split\n",
        "X_train, X_test, y_train, y_test = train_test_split(\n",
        "    cancer_scaled, cancer.target, stratify=cancer.target, test_size=0.2, random_state=2022\n",
        ")"
      ],
      "metadata": {
        "id": "QOxGpERDP7ky"
      },
      "execution_count": 6,
      "outputs": []
    },
    {
      "cell_type": "markdown",
      "source": [
        "### 1. Voting 방식"
      ],
      "metadata": {
        "id": "aKWl-TsOO1kz"
      }
    },
    {
      "cell_type": "markdown",
      "source": [
        "### 1.1 Hard Voting\n",
        "- logistic regression\n",
        "- svm\n",
        "- K-NN"
      ],
      "metadata": {
        "id": "G1vvXbPzPLNP"
      }
    },
    {
      "cell_type": "code",
      "source": [
        "from sklearn.linear_model import LogisticRegression\n",
        "from sklearn.svm import SVC\n",
        "from sklearn.neighbors import KNeighborsClassifier\n"
      ],
      "metadata": {
        "id": "B3hM-HorNV-J"
      },
      "execution_count": 8,
      "outputs": []
    },
    {
      "cell_type": "code",
      "source": [
        "lrc = LogisticRegression(random_state=2022)\n",
        "svc = SVC(random_state=2022, probability=True)\n",
        "knn = KNeighborsClassifier()"
      ],
      "metadata": {
        "id": "Xb4cVt3SNPAD"
      },
      "execution_count": 23,
      "outputs": []
    },
    {
      "cell_type": "code",
      "source": [
        "from sklearn.ensemble import VotingClassifier\n",
        "\n",
        "voc = VotingClassifier(\n",
        "    estimators=[('LRC',lrc), ('SVC',svc), ('KNN',knn)], voting='hard'\n",
        ")"
      ],
      "metadata": {
        "id": "loob9uggNO9K"
      },
      "execution_count": 24,
      "outputs": []
    },
    {
      "cell_type": "code",
      "source": [
        "voc.fit(X_train, y_train)\n",
        "voc.score(X_test, y_test)"
      ],
      "metadata": {
        "colab": {
          "base_uri": "https://localhost:8080/"
        },
        "id": "f9nWg8pNNO6m",
        "outputId": "708d507b-80fc-4fdd-c1f1-da4d4dd93bfd"
      },
      "execution_count": 25,
      "outputs": [
        {
          "output_type": "execute_result",
          "data": {
            "text/plain": [
              "1.0"
            ]
          },
          "metadata": {},
          "execution_count": 25
        }
      ]
    },
    {
      "cell_type": "code",
      "source": [
        "# logistic regression 모델 성능\n",
        "lrc.fit(X_train, y_train)\n",
        "lrc.score(X_test, y_test)"
      ],
      "metadata": {
        "colab": {
          "base_uri": "https://localhost:8080/"
        },
        "id": "4bstekiBNO32",
        "outputId": "09a39d5c-f4c8-4487-aa3f-1528372c593e"
      },
      "execution_count": 26,
      "outputs": [
        {
          "output_type": "execute_result",
          "data": {
            "text/plain": [
              "0.9912280701754386"
            ]
          },
          "metadata": {},
          "execution_count": 26
        }
      ]
    },
    {
      "cell_type": "code",
      "source": [
        "# svm 모델 성능\n",
        "svc.fit(X_train, y_train)\n",
        "svc.score(X_test, y_test)"
      ],
      "metadata": {
        "colab": {
          "base_uri": "https://localhost:8080/"
        },
        "id": "zhwcoBULSF5E",
        "outputId": "e4d193c7-a2ee-4526-aa44-263c1dc61d18"
      },
      "execution_count": 27,
      "outputs": [
        {
          "output_type": "execute_result",
          "data": {
            "text/plain": [
              "1.0"
            ]
          },
          "metadata": {},
          "execution_count": 27
        }
      ]
    },
    {
      "cell_type": "code",
      "source": [
        "# knn 모델 성능\n",
        "knn.fit(X_train, y_train)\n",
        "knn.score(X_test, y_test)"
      ],
      "metadata": {
        "colab": {
          "base_uri": "https://localhost:8080/"
        },
        "id": "AkEHJMmESF2r",
        "outputId": "bb5a2d7f-abc8-4813-b002-92ded9596310"
      },
      "execution_count": 28,
      "outputs": [
        {
          "output_type": "execute_result",
          "data": {
            "text/plain": [
              "0.9824561403508771"
            ]
          },
          "metadata": {},
          "execution_count": 28
        }
      ]
    },
    {
      "cell_type": "markdown",
      "source": [
        "### 1.2 Soft Voting"
      ],
      "metadata": {
        "id": "iDv_ugpwS0nF"
      }
    },
    {
      "cell_type": "code",
      "source": [
        "# 객체의 속성과 메소드\n",
        "dir(lrc)"
      ],
      "metadata": {
        "id": "KxzYlR9zSkDQ"
      },
      "execution_count": null,
      "outputs": []
    },
    {
      "cell_type": "code",
      "source": [
        "lrc.predict(X_test[:5])"
      ],
      "metadata": {
        "colab": {
          "base_uri": "https://localhost:8080/"
        },
        "id": "fuOSr4bDSzvj",
        "outputId": "f39c5dea-59e2-4e47-a903-16bf5c9de672"
      },
      "execution_count": 19,
      "outputs": [
        {
          "output_type": "execute_result",
          "data": {
            "text/plain": [
              "array([0, 1, 0, 1, 0])"
            ]
          },
          "metadata": {},
          "execution_count": 19
        }
      ]
    },
    {
      "cell_type": "code",
      "source": [
        "# 각 클래스 확률까지 표시\n",
        "lrc.predict_proba(X_test[:5])"
      ],
      "metadata": {
        "colab": {
          "base_uri": "https://localhost:8080/"
        },
        "id": "utqwdi5XSzri",
        "outputId": "7898bcd4-624d-4c38-a360-28f03b83dc80"
      },
      "execution_count": 20,
      "outputs": [
        {
          "output_type": "execute_result",
          "data": {
            "text/plain": [
              "array([[0.99792166, 0.00207834],\n",
              "       [0.07775117, 0.92224883],\n",
              "       [0.9774613 , 0.0225387 ],\n",
              "       [0.05952966, 0.94047034],\n",
              "       [0.99554778, 0.00445222]])"
            ]
          },
          "metadata": {},
          "execution_count": 20
        }
      ]
    },
    {
      "cell_type": "markdown",
      "source": [
        "- SVM"
      ],
      "metadata": {
        "id": "Oy64tQ66UINw"
      }
    },
    {
      "cell_type": "code",
      "source": [
        "svc.predict_proba(X_test[:5])"
      ],
      "metadata": {
        "colab": {
          "base_uri": "https://localhost:8080/"
        },
        "id": "py6Jcn-VSF0Y",
        "outputId": "fddb9500-afed-4ff3-a66f-20ffb76cfa1f"
      },
      "execution_count": 29,
      "outputs": [
        {
          "output_type": "execute_result",
          "data": {
            "text/plain": [
              "array([[9.99896299e-01, 1.03701492e-04],\n",
              "       [3.84470713e-03, 9.96155293e-01],\n",
              "       [9.99896384e-01, 1.03616009e-04],\n",
              "       [5.97356113e-03, 9.94026439e-01],\n",
              "       [9.99311796e-01, 6.88204061e-04]])"
            ]
          },
          "metadata": {},
          "execution_count": 29
        }
      ]
    },
    {
      "cell_type": "code",
      "source": [
        "knn.predict_proba(X_test[-5:])"
      ],
      "metadata": {
        "colab": {
          "base_uri": "https://localhost:8080/"
        },
        "id": "sXYPmU9CT-rF",
        "outputId": "47810a49-d868-4a77-8218-016c892cb0db"
      },
      "execution_count": 34,
      "outputs": [
        {
          "output_type": "execute_result",
          "data": {
            "text/plain": [
              "array([[0.8, 0.2],\n",
              "       [1. , 0. ],\n",
              "       [0.8, 0.2],\n",
              "       [0. , 1. ],\n",
              "       [0. , 1. ]])"
            ]
          },
          "metadata": {},
          "execution_count": 34
        }
      ]
    },
    {
      "cell_type": "markdown",
      "source": [
        "### Soft Voting"
      ],
      "metadata": {
        "id": "Ht_tyGf8VYf4"
      }
    },
    {
      "cell_type": "code",
      "source": [
        "voc2 = VotingClassifier(\n",
        "    estimators=[('LRC',lrc), ('SVC',svc), ('KNN', knn)], voting='soft'\n",
        ")"
      ],
      "metadata": {
        "id": "zAHV6C5_U7xn"
      },
      "execution_count": 35,
      "outputs": []
    },
    {
      "cell_type": "code",
      "source": [
        "voc2.fit(X_train, y_train)\n",
        "voc2.score(X_test, y_test)"
      ],
      "metadata": {
        "colab": {
          "base_uri": "https://localhost:8080/"
        },
        "id": "HvfLwGp6U7va",
        "outputId": "f2bca731-e764-4569-e887-020e0f825a36"
      },
      "execution_count": 37,
      "outputs": [
        {
          "output_type": "execute_result",
          "data": {
            "text/plain": [
              "1.0"
            ]
          },
          "metadata": {},
          "execution_count": 37
        }
      ]
    },
    {
      "cell_type": "code",
      "source": [
        "voc2.predict_proba(X_test[:5])"
      ],
      "metadata": {
        "colab": {
          "base_uri": "https://localhost:8080/"
        },
        "id": "LJRHsrxlT-oq",
        "outputId": "a142862e-628d-4b22-9c0e-658332c9eb9a"
      },
      "execution_count": 38,
      "outputs": [
        {
          "output_type": "execute_result",
          "data": {
            "text/plain": [
              "array([[9.99272654e-01, 7.27346212e-04],\n",
              "       [2.71986265e-02, 9.72801374e-01],\n",
              "       [9.92452563e-01, 7.54743719e-03],\n",
              "       [2.18344062e-02, 9.78165594e-01],\n",
              "       [9.98286525e-01, 1.71347474e-03]])"
            ]
          },
          "metadata": {},
          "execution_count": 38
        }
      ]
    },
    {
      "cell_type": "markdown",
      "source": [
        "- GridSearchCV"
      ],
      "metadata": {
        "id": "9CRXIAWFaKLS"
      }
    },
    {
      "cell_type": "code",
      "source": [
        "lrc.C, svc.C"
      ],
      "metadata": {
        "colab": {
          "base_uri": "https://localhost:8080/"
        },
        "id": "A9gS4i4jV0Oh",
        "outputId": "65c45c40-9254-492c-c216-8eb2fa97ed29"
      },
      "execution_count": 43,
      "outputs": [
        {
          "output_type": "execute_result",
          "data": {
            "text/plain": [
              "(1.0, 1.0)"
            ]
          },
          "metadata": {},
          "execution_count": 43
        }
      ]
    },
    {
      "cell_type": "code",
      "source": [
        "params = {\n",
        "    'LRC__C': [5,10,30],\n",
        "    'SVC__C': [0.05,0.1,0.3]\n",
        "}"
      ],
      "metadata": {
        "id": "nUFnxBC9V0ME"
      },
      "execution_count": 47,
      "outputs": []
    },
    {
      "cell_type": "code",
      "source": [
        "from sklearn.model_selection import GridSearchCV\n",
        "\n",
        "grid_voc = GridSearchCV(voc2, params, scoring='accuracy', cv=5)\n",
        "grid_voc.fit(X_train, y_train)\n",
        "grid_voc.best_params_"
      ],
      "metadata": {
        "colab": {
          "base_uri": "https://localhost:8080/"
        },
        "id": "KghxePtcV0JX",
        "outputId": "0de6debf-b9fd-4230-9d9e-08fc423d23e2"
      },
      "execution_count": 48,
      "outputs": [
        {
          "output_type": "execute_result",
          "data": {
            "text/plain": [
              "{'LRC__C': 10, 'SVC__C': 0.05}"
            ]
          },
          "metadata": {},
          "execution_count": 48
        }
      ]
    },
    {
      "cell_type": "code",
      "source": [
        "best_voc = grid_voc.best_estimator_\n",
        "best_voc.score(X_test, y_test)"
      ],
      "metadata": {
        "colab": {
          "base_uri": "https://localhost:8080/"
        },
        "id": "yIN9SPFXayE6",
        "outputId": "46af2be3-5273-475c-d26e-e67755e6ca95"
      },
      "execution_count": 49,
      "outputs": [
        {
          "output_type": "execute_result",
          "data": {
            "text/plain": [
              "1.0"
            ]
          },
          "metadata": {},
          "execution_count": 49
        }
      ]
    },
    {
      "cell_type": "markdown",
      "source": [
        "### 2. bagging 방식\n",
        "- Random Forest"
      ],
      "metadata": {
        "id": "edsalxBTcH0j"
      }
    },
    {
      "cell_type": "code",
      "source": [
        "from sklearn.ensemble import RandomForestClassifier\n",
        "\n",
        "rfc = RandomForestClassifier(random_state=2022)\n",
        "rfc.get_params()"
      ],
      "metadata": {
        "colab": {
          "base_uri": "https://localhost:8080/"
        },
        "id": "Q_uT8XtsayCR",
        "outputId": "10db4aea-b9a3-4c3d-9b76-4a3977bf239c"
      },
      "execution_count": 50,
      "outputs": [
        {
          "output_type": "execute_result",
          "data": {
            "text/plain": [
              "{'bootstrap': True,\n",
              " 'ccp_alpha': 0.0,\n",
              " 'class_weight': None,\n",
              " 'criterion': 'gini',\n",
              " 'max_depth': None,\n",
              " 'max_features': 'auto',\n",
              " 'max_leaf_nodes': None,\n",
              " 'max_samples': None,\n",
              " 'min_impurity_decrease': 0.0,\n",
              " 'min_samples_leaf': 1,\n",
              " 'min_samples_split': 2,\n",
              " 'min_weight_fraction_leaf': 0.0,\n",
              " 'n_estimators': 100,\n",
              " 'n_jobs': None,\n",
              " 'oob_score': False,\n",
              " 'random_state': 2022,\n",
              " 'verbose': 0,\n",
              " 'warm_start': False}"
            ]
          },
          "metadata": {},
          "execution_count": 50
        }
      ]
    },
    {
      "cell_type": "code",
      "source": [
        "rfc.fit(X_train, y_train)\n",
        "rfc.score()"
      ],
      "metadata": {
        "colab": {
          "base_uri": "https://localhost:8080/"
        },
        "id": "Oy7TXDuocHgI",
        "outputId": "c7da09d3-ff69-4d30-9f6c-0d6b04797d29"
      },
      "execution_count": 51,
      "outputs": [
        {
          "output_type": "execute_result",
          "data": {
            "text/plain": [
              "1.0"
            ]
          },
          "metadata": {},
          "execution_count": 51
        }
      ]
    }
  ]
}